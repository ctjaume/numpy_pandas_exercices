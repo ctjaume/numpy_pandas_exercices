{
 "cells": [
  {
   "cell_type": "markdown",
   "metadata": {},
   "source": [
    "### Ejercicios de NumPy\n",
    "\n",
    "    1.Importa la librería de NumPy."
   ]
  },
  {
   "cell_type": "code",
   "execution_count": 2,
   "metadata": {},
   "outputs": [],
   "source": [
    "import numpy as np"
   ]
  },
  {
   "cell_type": "markdown",
   "metadata": {},
   "source": [
    "    2.Crea un array de 1 dimension y 10 elementos."
   ]
  },
  {
   "cell_type": "code",
   "execution_count": 41,
   "metadata": {},
   "outputs": [
    {
     "data": {
      "text/plain": [
       "array([10, 93, 29, 81,  3, 63, 20, 78, 30, 11])"
      ]
     },
     "execution_count": 41,
     "metadata": {},
     "output_type": "execute_result"
    }
   ],
   "source": [
    "arr1 = np.random.randint(0,100,(10))\n",
    "arr1"
   ]
  },
  {
   "cell_type": "markdown",
   "metadata": {},
   "source": [
    "    3.Reemplaza todos los números impares por el valor \"impar\" y los pares por \"par\". Para hacer esto os tendréis que crear un array nuevo donde vayáis añadiendo los valores nuevos."
   ]
  },
  {
   "cell_type": "code",
   "execution_count": 47,
   "metadata": {},
   "outputs": [
    {
     "data": {
      "text/plain": [
       "array(['par', 'impar', 'impar', 'impar', 'impar', 'impar', 'par', 'par',\n",
       "       'par', 'impar'], dtype='<U8')"
      ]
     },
     "execution_count": 47,
     "metadata": {},
     "output_type": "execute_result"
    }
   ],
   "source": [
    "#Creamos un array vacio con la misma forma que el array anterior\n",
    "#Especificamos que los elementos del array sean dtype = '<U8' \n",
    "# para que acepten hasta 8 caracteres\n",
    "\n",
    "arr_par_impar = np.empty_like(arr1, dtype ='<U8')\n",
    "\n",
    "\n",
    "#Creamos un rango del mismo tamaño que la longitud del array\n",
    "# y lo usamos para iterar por los indices del array original\n",
    "#Introducimos el resultado en el array vacío\n",
    "\n",
    "for i in range(arr1.shape[0]):\n",
    "    if arr1[i]%2 != 0:\n",
    "        arr_par_impar[i] = 'impar'\n",
    "    else:\n",
    "        arr_par_impar[i] = 'par'        \n",
    "        \n",
    "arr_par_impar        "
   ]
  },
  {
   "cell_type": "markdown",
   "metadata": {},
   "source": [
    "    4.Cambiad la forma del array del ejercicio 3 a un array de 2 filas y 5 columnas."
   ]
  },
  {
   "cell_type": "code",
   "execution_count": 43,
   "metadata": {},
   "outputs": [
    {
     "data": {
      "text/plain": [
       "array([['par', 'impar', 'impar', 'impar', 'impar'],\n",
       "       ['impar', 'par', 'par', 'par', 'impar']], dtype='<U8')"
      ]
     },
     "execution_count": 43,
     "metadata": {},
     "output_type": "execute_result"
    }
   ],
   "source": [
    "arr2 = arr_par_impar.reshape((2,5))\n",
    "arr2"
   ]
  },
  {
   "cell_type": "markdown",
   "metadata": {},
   "source": [
    "    5.Extrae los elementos comunes de los siguientes arrays\n",
    "\n",
    "array1 = np.array([1,2,3,2,3,4,3,4,5,6])\n",
    "\n",
    "array2 = np.array([7,2,10,2,7,4,9,4,9,8])"
   ]
  },
  {
   "cell_type": "code",
   "execution_count": 45,
   "metadata": {},
   "outputs": [],
   "source": [
    "array1 = np.array([1,2,3,2,3,4,3,4,5,6])\n",
    "array2 = np.array([7,2,10,2,7,4,9,4,9,8])"
   ]
  },
  {
   "cell_type": "code",
   "execution_count": 56,
   "metadata": {},
   "outputs": [
    {
     "name": "stdout",
     "output_type": "stream",
     "text": [
      "Los elementos comunes de los dos arrays son [2 4]\n"
     ]
    }
   ],
   "source": [
    "comunes = np.intersect1d(array1, array2)\n",
    "print(f'Los elementos comunes de los dos arrays son {comunes}')"
   ]
  },
  {
   "cell_type": "markdown",
   "metadata": {},
   "source": [
    "    6.Extraed los elementos que están en el array1 pero no en el array2."
   ]
  },
  {
   "cell_type": "code",
   "execution_count": 58,
   "metadata": {},
   "outputs": [
    {
     "name": "stdout",
     "output_type": "stream",
     "text": [
      "Los elementos que estan en array1 y que no estan en array2 son [1 3 5 6]\n"
     ]
    }
   ],
   "source": [
    "solamente = np.setdiff1d(array1, array2)\n",
    "print(f'Los elementos que estan en array1 y que no estan en array2 son {solamente}')"
   ]
  },
  {
   "cell_type": "markdown",
   "metadata": {},
   "source": [
    "    7.Extraed las posiciones donde tengamos elementos que sean iguales."
   ]
  },
  {
   "cell_type": "code",
   "execution_count": 60,
   "metadata": {},
   "outputs": [
    {
     "name": "stdout",
     "output_type": "stream",
     "text": [
      "Las posiciones en las que hay elementos iguales en ambos arrays son [1 3 5 7]\n"
     ]
    }
   ],
   "source": [
    "posiciones = np.where(array1 == array2)\n",
    "print(f'Las posiciones en las que hay elementos iguales en ambos arrays son {posiciones[0]}')"
   ]
  },
  {
   "cell_type": "markdown",
   "metadata": {},
   "source": [
    "    8.Cread un array de 3 filas y 5 columnas, con números enteros del 0 al 50. Una vez creado, extrae los valores que sean menores que 10 y mayores que 40."
   ]
  },
  {
   "cell_type": "code",
   "execution_count": 61,
   "metadata": {},
   "outputs": [
    {
     "data": {
      "text/plain": [
       "array([[ 3, 42,  4, 35, 49],\n",
       "       [13, 39,  0, 17, 35],\n",
       "       [ 1, 24,  6, 34,  5]])"
      ]
     },
     "execution_count": 61,
     "metadata": {},
     "output_type": "execute_result"
    }
   ],
   "source": [
    "array3 = np.random.randint(0,50,(3,5))\n",
    "array3"
   ]
  },
  {
   "cell_type": "code",
   "execution_count": 73,
   "metadata": {},
   "outputs": [
    {
     "name": "stdout",
     "output_type": "stream",
     "text": [
      "Los valores del array que son menores que 10 o mayores que 40 son [3, 42, 4, 49, 0, 1, 6, 5]\n"
     ]
    }
   ],
   "source": [
    "valores = []\n",
    "for y in range(array3.shape[0]):\n",
    "    for x in range(array3.shape[1]):\n",
    "        if array3[y,x] <10 or array3[y,x] >40:\n",
    "           valores.append(array3[y,x])\n",
    "        else: \n",
    "            pass\n",
    "        \n",
    "print(f'Los valores del array que son menores que 10 o mayores que 40 son {valores}')     "
   ]
  },
  {
   "cell_type": "markdown",
   "metadata": {},
   "source": [
    "    9.Cread un array de 5x3 con números decimales aleatorios entre el 5 y el 10."
   ]
  },
  {
   "cell_type": "code",
   "execution_count": 71,
   "metadata": {},
   "outputs": [
    {
     "data": {
      "text/plain": [
       "array([[8.80928373, 5.03238771, 9.50889731],\n",
       "       [6.77134781, 6.4063632 , 7.2132793 ],\n",
       "       [6.83701229, 8.58355632, 9.87659031],\n",
       "       [9.19718797, 8.9159894 , 6.48595779],\n",
       "       [7.65833276, 9.09676689, 5.05274348]])"
      ]
     },
     "execution_count": 71,
     "metadata": {},
     "output_type": "execute_result"
    }
   ],
   "source": [
    "array4 = np.random.uniform(5,10,(5,3))\n",
    "array4"
   ]
  },
  {
   "cell_type": "markdown",
   "metadata": {},
   "source": [
    "    10.Crea un array de tres dimensiones de 2x4x7 con números entre el 1 y el 20\n",
    "\n",
    "        -Transponed el array para que tenga 4 matrices, 7 filas y 2 columnas"
   ]
  },
  {
   "cell_type": "code",
   "execution_count": 72,
   "metadata": {},
   "outputs": [
    {
     "data": {
      "text/plain": [
       "array([[[18, 19, 18,  7, 17, 17, 15],\n",
       "        [ 4,  6,  8, 16, 14,  7, 17],\n",
       "        [13,  8,  3, 17,  2, 10,  6],\n",
       "        [11,  6,  8, 19, 11, 18, 18]],\n",
       "\n",
       "       [[ 5,  9, 19,  2,  2, 10, 13],\n",
       "        [15, 16,  3, 18,  4, 18, 19],\n",
       "        [ 2,  2,  6,  7,  5,  3,  3],\n",
       "        [10,  4, 17,  4,  6, 19, 10]]])"
      ]
     },
     "execution_count": 72,
     "metadata": {},
     "output_type": "execute_result"
    }
   ],
   "source": [
    "array5 = np.random.randint(1,20,(2,4,7))\n",
    "array5"
   ]
  },
  {
   "cell_type": "code",
   "execution_count": 74,
   "metadata": {},
   "outputs": [
    {
     "data": {
      "text/plain": [
       "array([[[18, 19],\n",
       "        [18,  7],\n",
       "        [17, 17],\n",
       "        [15,  4],\n",
       "        [ 6,  8],\n",
       "        [16, 14],\n",
       "        [ 7, 17]],\n",
       "\n",
       "       [[13,  8],\n",
       "        [ 3, 17],\n",
       "        [ 2, 10],\n",
       "        [ 6, 11],\n",
       "        [ 6,  8],\n",
       "        [19, 11],\n",
       "        [18, 18]],\n",
       "\n",
       "       [[ 5,  9],\n",
       "        [19,  2],\n",
       "        [ 2, 10],\n",
       "        [13, 15],\n",
       "        [16,  3],\n",
       "        [18,  4],\n",
       "        [18, 19]],\n",
       "\n",
       "       [[ 2,  2],\n",
       "        [ 6,  7],\n",
       "        [ 5,  3],\n",
       "        [ 3, 10],\n",
       "        [ 4, 17],\n",
       "        [ 4,  6],\n",
       "        [19, 10]]])"
      ]
     },
     "execution_count": 74,
     "metadata": {},
     "output_type": "execute_result"
    }
   ],
   "source": [
    "array6 = array5.reshape((4,7,2))\n",
    "array6"
   ]
  }
 ],
 "metadata": {
  "kernelspec": {
   "display_name": "base",
   "language": "python",
   "name": "python3"
  },
  "language_info": {
   "codemirror_mode": {
    "name": "ipython",
    "version": 3
   },
   "file_extension": ".py",
   "mimetype": "text/x-python",
   "name": "python",
   "nbconvert_exporter": "python",
   "pygments_lexer": "ipython3",
   "version": "3.9.7"
  },
  "orig_nbformat": 4
 },
 "nbformat": 4,
 "nbformat_minor": 2
}
